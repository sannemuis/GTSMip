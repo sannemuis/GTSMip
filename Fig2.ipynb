{
 "cells": [
  {
   "cell_type": "markdown",
   "id": "19399412",
   "metadata": {},
   "source": [
    "# Script to produce Fig. 2"
   ]
  },
  {
   "cell_type": "markdown",
   "id": "d12c71a9",
   "metadata": {},
   "source": [
    "## Load packages"
   ]
  },
  {
   "cell_type": "code",
   "execution_count": 1,
   "id": "40fae486",
   "metadata": {},
   "outputs": [],
   "source": [
    "import os\n",
    "import xarray as xr\n",
    "import pandas as pd\n",
    "import numpy as np\n",
    "\n",
    "import seaborn as sns\n",
    "import matplotlib as mpl\n",
    "import matplotlib.pyplot as plt\n",
    "from cartopy.mpl.geoaxes import GeoAxes\n",
    "from mpl_toolkits.axes_grid1 import AxesGrid\n",
    "import cartopy as crt\n",
    "from cartopy.mpl.gridliner import LONGITUDE_FORMATTER, LATITUDE_FORMATTER\n",
    "\n",
    "import warnings\n",
    "warnings.filterwarnings('ignore')"
   ]
  },
  {
   "cell_type": "markdown",
   "id": "757e0b2c",
   "metadata": {},
   "source": [
    "## Settings and folder paths"
   ]
  },
  {
   "cell_type": "code",
   "execution_count": 2,
   "id": "0fa4c962",
   "metadata": {},
   "outputs": [],
   "source": [
    "plt.style.use(\"seaborn-v0_8\")\n",
    "sns.set_style(\"darkgrid\")\n",
    "sns.set_context(\"notebook\", font_scale=3.5)\n",
    "\n",
    "idir = r'C:\\Users\\muis\\OneDrive - Stichting Deltares\\Desktop\\paper_gtsmip\\data'\n",
    "\n",
    "models = ['EC-Earth3P-HR','HadGEM3-GC31-HM-SST','GFDL-CM4C192-SST','CMCC-CM2-VHR4','HadGEM3-GC31-HM']\n",
    "rp = 10"
   ]
  },
  {
   "cell_type": "markdown",
   "id": "5773ecda",
   "metadata": {},
   "source": [
    "## Load data and store in single DataFrame "
   ]
  },
  {
   "cell_type": "code",
   "execution_count": 3,
   "id": "127f7063",
   "metadata": {},
   "outputs": [],
   "source": [
    "# bedlevel\n",
    "ifile = 'data/bedlevel.nc'\n",
    "ds_bedlevel = xr.open_dataset(ifile)\n",
    "pxyn = ds_bedlevel.to_dataframe()\n",
    "\n",
    "# ERA5\n",
    "ifile = 'reanalysis_surge_actual-value_1985-2014_rp%s_best-fit_v1.nc' % str(rp)\n",
    "ds_era5 = xr.open_dataset(os.path.join(idir,ifile))\n",
    "df_era5 = ds_era5['return_mean_surge_level'].to_dataframe()\n",
    "df_era5.rename(columns={df_era5 .columns[2]: 'era5'}, inplace = True)\n",
    "\n",
    "# HighResMIP\n",
    "df_models = []\n",
    "for model in models:\n",
    "    ifile = '%s_historical_surge_actual-value_1985-2014_rp%s_best-fit_v1.nc' % (str(model),str(rp))   \n",
    "    ds_model = xr.open_dataset(os.path.join(idir,ifile))\n",
    "    df_model = ds_model['return_mean_surge_level'].to_dataframe()\n",
    "    df_model.rename(columns={df_model.columns[2]: model}, inplace = True)\n",
    "    df_model.drop(columns=['station_x_coordinate','station_y_coordinate'],inplace=True)\n",
    "    df_models.append(df_model)\n",
    "df_data = pd.concat([df_era5, pd.concat(df_models, axis=1)], axis=1)"
   ]
  },
  {
   "cell_type": "markdown",
   "id": "96c5eb6f",
   "metadata": {},
   "source": [
    "## Compute ensemble statistics and performance"
   ]
  },
  {
   "cell_type": "code",
   "execution_count": 4,
   "id": "d0ea5050",
   "metadata": {},
   "outputs": [],
   "source": [
    "# Compute ensemble stats\n",
    "df_data['ens_std'] = df_data[models].std(axis=1)\n",
    "df_data['ens_median'] = df_data[models].median(axis=1)\n",
    "\n",
    "# Compute model performance\n",
    "df_data['ens_median_abs_bias']=df_data['ens_median'].subtract(df_data['era5'],axis=0).rename('abs_bias')\n",
    "df_data['ens_median_rel_bias']=df_data['ens_median'].subtract(df_data['era5'] ,axis=0).div(df_data['era5'],axis=0).mul(100).rename('rel_bias')"
   ]
  },
  {
   "cell_type": "markdown",
   "id": "5624df14",
   "metadata": {},
   "source": [
    "## Plot global maps"
   ]
  },
  {
   "cell_type": "code",
   "execution_count": 5,
   "id": "1d2f71af",
   "metadata": {},
   "outputs": [],
   "source": [
    "# function to plot global maps\n",
    "def global_map(ax,pxyn,var,cm,clim,clabel):\n",
    "    # Projections\n",
    "    crg = crt.crs.PlateCarree() # the one we have defined the data\n",
    "    crgp = crt.crs.Robinson() # the one to plot the data\n",
    "    # Identify european coastal points\n",
    "    lonmin = -35\n",
    "    lonmax = 50\n",
    "    latmin = 20\n",
    "    latmax = 80\n",
    "    depththresh = -20\n",
    "    ioceaneu = pxyn[(pxyn['bedlevel']<depththresh)\n",
    "                    &(pxyn['lat']<=latmax)&(pxyn['lat']>=latmin)\n",
    "                    &(pxyn['lon']>=lonmin)&(pxyn['lon']<=lonmax)].index\n",
    "    ioceanNeu = pxyn[(pxyn['bedlevel']<depththresh)\n",
    "                    &((pxyn['lat']>latmax)|(pxyn['lat']<latmin)\n",
    "                    |(pxyn['lon']<lonmin)|(pxyn['lon']>lonmax))].index\n",
    "    # Identify coastal points    \n",
    "    icoast = pxyn[pxyn['bedlevel']>=depththresh].index\n",
    "    alfaoceaneu = 0.1\n",
    "    alfaoceanNeu = 0.4\n",
    "    alfacoast = 1\n",
    "    psoceaneu = 4\n",
    "    psoceanNeu = 20\n",
    "    pscoast = 6\n",
    "    # format\n",
    "    mpl.rcParams.update({'font.size': 20})\n",
    "    # plot map \n",
    "    ax.set_global()\n",
    "    ax.set_extent([-180, 180, -60, 70], crg)            \n",
    "    ax.coastlines(resolution='10m', color='gray', linewidth=0.5, alpha=0.8,zorder=6)\n",
    "    ax.add_feature(crt.feature.LAND.with_scale('10m'),facecolor='gray',zorder=4,alpha=0.20)\n",
    "    ax.add_feature(crt.feature.LAKES.with_scale('10m'), facecolor='gray',zorder=5,alpha=0.05)        \n",
    "    ax.add_feature(crt.feature.OCEAN.with_scale('10m'), edgecolor='face', facecolor='white')\n",
    "    # plot data\n",
    "    bs=ax.scatter(x=pxyn.loc[ioceaneu,'lon'].values,y=pxyn.loc[ioceaneu,'lat'].values,alpha=alfaoceaneu,s=psoceaneu,c=var.loc[ioceaneu].values,cmap=cm,vmin=clim[0], vmax=clim[1],transform=crg)\n",
    "    bs=ax.scatter(x=pxyn.loc[ioceanNeu,'lon'].values,y=pxyn.loc[ioceanNeu,'lat'].values,alpha=alfaoceanNeu,s=psoceanNeu,c=var.loc[ioceanNeu].values,cmap=cm,vmin=clim[0], vmax=clim[1],transform=crg)\n",
    "    bs=ax.scatter(x=pxyn.loc[icoast,'lon'].values,y=pxyn.loc[icoast,'lat'].values,alpha=alfacoast,s=pscoast,c=var.loc[icoast].values,cmap=cm,vmin=clim[0], vmax=clim[1],transform=crg)  \n",
    "    # Format lat lon grid    \n",
    "    gl = ax.gridlines(crs=crg, draw_labels=True, linewidth=0.5, color='gray', alpha=0.5, linestyle='--')\n",
    "    gl.yline = gl.xlines = True\n",
    "    gl.xformatter = LONGITUDE_FORMATTER\n",
    "    gl.yformatter = LATITUDE_FORMATTER\n",
    "    gl.ylabel_style = {'size': 12, 'color': 'gray'}\n",
    "    gl.xlabel_style = {'rotation': 0, 'size': 12, 'color': 'gray'}\n",
    "    gl.top_labels = gl.right_labels = False\n",
    "    gl.ylocator = mpl.ticker.FixedLocator(np.arange(-60.,61.,20))\n",
    "    gl.xlocator = mpl.ticker.FixedLocator(np.arange(-180.,181.,40))\n",
    "    # Colorbar\n",
    "    cbar = ax.cax.colorbar(bs)\n",
    "    cbar.set_label(label=clabel,size=12)\n",
    "    # Tight layout and save\n",
    "    plt.tight_layout()\n",
    "    return ax"
   ]
  },
  {
   "cell_type": "code",
   "execution_count": null,
   "id": "d189471d",
   "metadata": {},
   "outputs": [],
   "source": [
    "fig = plt.figure(figsize=(26,20))\n",
    "axes_class = (GeoAxes, dict(projection=crt.crs.Robinson()))\n",
    "axs = AxesGrid(fig, 111, axes_class=axes_class,\n",
    "               nrows_ncols=(2, 2),\n",
    "               share_all=True,\n",
    "               axes_pad=1.7,\n",
    "               cbar_location='right',\n",
    "               cbar_mode='each',\n",
    "               cbar_size='2%',\n",
    "               cbar_pad=0.25,\n",
    "               label_mode='keep') \n",
    "# panel a - ensemble median\n",
    "axs[0].set_title(\"a) Ensemble median\", size=22, loc='left')\n",
    "cm = mpl.colormaps['crest'].resampled(20)\n",
    "clim=[0,1.8]\n",
    "label='Surge level (m)'\n",
    "global_map(axs[0], pxyn,df_data['ens_median'], cm, clim, label)\n",
    "# panel b - ensemble std\n",
    "axs[1].set_title('b) Ensemble standard deviation', size=22, loc='left')\n",
    "cm = mpl.colormaps['flare'].resampled(20)\n",
    "clim=[0,.6]\n",
    "label='STD (m)'\n",
    "global_map(axs[1], pxyn, df_data['ens_std'],cm, clim, label)\n",
    "# panel c - bias\n",
    "axs[2].set_title('c) Bias ensemble median compared to ERA5', size=22,loc='left')\n",
    "cm = mpl.colormaps['vlag'].resampled(16)\n",
    "clim=[-.4,.4]\n",
    "label='Bias (m)'\n",
    "global_map(axs[2], pxyn, df_data['ens_median_abs_bias'],cm, clim, label)\n",
    "# panel d - relative bias\n",
    "axs[3].set_title('d) Relative bias ensemble median compared to ERA5 ', size=22,loc='left')\n",
    "cm = mpl.colormaps['vlag'].resampled(8)\n",
    "clim=[-40,40]\n",
    "label='Bias (%)'\n",
    "global_map(axs[3], pxyn, df_data['ens_median_rel_bias'],cm, clim, label)\n",
    "plt.show()"
   ]
  }
 ],
 "metadata": {
  "kernelspec": {
   "display_name": "Python 3 (ipykernel)",
   "language": "python",
   "name": "python3"
  },
  "language_info": {
   "codemirror_mode": {
    "name": "ipython",
    "version": 3
   },
   "file_extension": ".py",
   "mimetype": "text/x-python",
   "name": "python",
   "nbconvert_exporter": "python",
   "pygments_lexer": "ipython3",
   "version": "3.11.4"
  }
 },
 "nbformat": 4,
 "nbformat_minor": 5
}
